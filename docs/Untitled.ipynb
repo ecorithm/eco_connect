{
 "cells": [
  {
   "cell_type": "code",
   "execution_count": 10,
   "metadata": {},
   "outputs": [],
   "source": [
    "from eco_connect import FactsService"
   ]
  },
  {
   "cell_type": "code",
   "execution_count": 11,
   "metadata": {},
   "outputs": [],
   "source": [
    "analysis_df = FactsService().get_facts(51, '2017-12-20 00:00', '2017-12-20 00:05')"
   ]
  },
  {
   "cell_type": "code",
   "execution_count": 14,
   "metadata": {},
   "outputs": [
    {
     "data": {
      "text/plain": [
       "0                             VAV_01_001.DischargeAirFlow\n",
       "1                             VAV_02_001.DischargeAirFlow\n",
       "2                             VAV_02_002.DischargeAirFlow\n",
       "3                             VAV_02_003.DischargeAirFlow\n",
       "4                             VAV_02_004.DischargeAirFlow\n",
       "5                             VAV_02_005.DischargeAirFlow\n",
       "6                             VAV_02_006.DischargeAirFlow\n",
       "7                             VAV_02_007.DischargeAirFlow\n",
       "8                             VAV_02_008.DischargeAirFlow\n",
       "9                             VAV_02_009.DischargeAirFlow\n",
       "10                            VAV_07_001.DischargeAirFlow\n",
       "11                            VAV_07_002.DischargeAirFlow\n",
       "12                            VAV_07_003.DischargeAirFlow\n",
       "13                            VAV_07_004.DischargeAirFlow\n",
       "14                            VAV_07_005.DischargeAirFlow\n",
       "15                            VAV_08_001.DischargeAirFlow\n",
       "16                            VAV_08_002.DischargeAirFlow\n",
       "17                            VAV_08_003.DischargeAirFlow\n",
       "18                            VAV_08_004.DischargeAirFlow\n",
       "19                            VAV_08_005.DischargeAirFlow\n",
       "20                            VAV_09_001.DischargeAirFlow\n",
       "21                            VAV_09_002.DischargeAirFlow\n",
       "22                            VAV_09_003.DischargeAirFlow\n",
       "23                            VAV_09_004.DischargeAirFlow\n",
       "24                            VAV_09_005.DischargeAirFlow\n",
       "25                            VAV_10_001.DischargeAirFlow\n",
       "26                            VAV_10_002.DischargeAirFlow\n",
       "27                            VAV_10_003.DischargeAirFlow\n",
       "28                            VAV_10_004.DischargeAirFlow\n",
       "29                            VAV_10_005.DischargeAirFlow\n",
       "                              ...                        \n",
       "1670                                                  NaN\n",
       "1671                                                  NaN\n",
       "1672                                                  NaN\n",
       "1673                                                  NaN\n",
       "1674                                                  NaN\n",
       "1675                                                  NaN\n",
       "1676                                                  NaN\n",
       "1677                                                  NaN\n",
       "1678                                                  NaN\n",
       "1679                                                  NaN\n",
       "1680                                                  NaN\n",
       "1681                                                  NaN\n",
       "1682                                                  NaN\n",
       "1683                                                  NaN\n",
       "1684                                                  NaN\n",
       "1685               Boiler_01.BoilerOutletWaterTemperature\n",
       "1686               Boiler_02.BoilerOutletWaterTemperature\n",
       "1687                                                  NaN\n",
       "1688         HW_System.HotWaterLoopOutletWaterTemperature\n",
       "1689    ChilledWaterLoop.ChilledWaterLoopOutletWaterTe...\n",
       "1690                                                  NaN\n",
       "1691                                                  NaN\n",
       "1692                                                  NaN\n",
       "1693                                                  NaN\n",
       "1694                      HW_System.BoilerOutletWaterFlow\n",
       "1695                                                  NaN\n",
       "1696                                                  NaN\n",
       "1697                                                  NaN\n",
       "1698                                                  NaN\n",
       "1699                                                  NaN\n",
       "Length: 1700, dtype: object"
      ]
     },
     "execution_count": 14,
     "metadata": {},
     "output_type": "execute_result"
    }
   ],
   "source": [
    "analysis_df.equipment_name + '.' + analysis_df.point_class"
   ]
  },
  {
   "cell_type": "code",
   "execution_count": null,
   "metadata": {},
   "outputs": [],
   "source": []
  }
 ],
 "metadata": {
  "kernelspec": {
   "display_name": "Python 3",
   "language": "python",
   "name": "python3"
  },
  "language_info": {
   "codemirror_mode": {
    "name": "ipython",
    "version": 3
   },
   "file_extension": ".py",
   "mimetype": "text/x-python",
   "name": "python",
   "nbconvert_exporter": "python",
   "pygments_lexer": "ipython3",
   "version": "3.6.2"
  }
 },
 "nbformat": 4,
 "nbformat_minor": 2
}
